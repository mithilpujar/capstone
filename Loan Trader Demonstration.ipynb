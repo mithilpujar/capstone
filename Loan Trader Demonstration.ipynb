{
 "cells": [
  {
   "cell_type": "markdown",
   "source": [
    "# Loan Trader Demonstration"
   ],
   "metadata": {
    "collapsed": false
   },
   "id": "95be15e4e855784a"
  },
  {
   "cell_type": "code",
   "execution_count": 1,
   "outputs": [],
   "source": [
    "import Agents.Loan as Loan\n",
    "import Agents.LoanInvestor as LoanInvestor\n",
    "import Agents.LoanTrader as LoanTrader\n",
    "import matplotlib.pyplot as plt"
   ],
   "metadata": {
    "collapsed": false,
    "ExecuteTime": {
     "end_time": "2024-03-29T12:45:19.588812Z",
     "start_time": "2024-03-29T12:45:19.008682Z"
    }
   },
   "id": "50725cda64730c56"
  },
  {
   "cell_type": "markdown",
   "source": [
    "# Setting up a universe of loans and investors\n",
    "\n",
    "The general goal here will be to demonstrate the process for a trade to clear step by step with a loan that the trader is holding for sale. "
   ],
   "metadata": {
    "collapsed": false
   },
   "id": "8119cfe79d7814aa"
  },
  {
   "cell_type": "markdown",
   "source": [
    "### Creating the setup for loans to start trading\n",
    "\n",
    "We will start with a universe in which there are a number of investors and a fewer number of loans"
   ],
   "metadata": {
    "collapsed": false
   },
   "id": "82a10b95809b1f76"
  },
  {
   "cell_type": "code",
   "execution_count": 2,
   "outputs": [],
   "source": [
    "num_loans = 50\n",
    "num_investors = 10\n",
    "\n",
    "\n",
    "# setting up a universe of loans and investors and randomly allocating them\n",
    "loans_list = [Loan.LoanObj() for _ in range(num_loans)]\n",
    "investors_list = [LoanInvestor.LoanInvestorObj() for _ in range(num_investors)]\n",
    "trader = LoanTrader.LoanTraderObj()\n",
    "\n",
    "# randomly allocating loans to investors\n",
    "for investor in investors_list:\n",
    "    available_loans = [loan for loan in loans_list if loan.current_owner == \"no owner\"]\n",
    "    investor.initialize_portfolio(available_loans)\n",
    "    \n",
    "# setting up all the investors to have our trader as their trader\n",
    "trader.add_investors(investors_list)\n",
    "\n",
    "loans_for_sale = [loan for loan in loans_list if loan.current_owner == \"no owner\"]\n",
    "loans_for_sale.extend([Loan.LoanObj() for _ in range(1)])\n",
    "\n",
    "trader.update_loans_for_sale(loans_for_sale)"
   ],
   "metadata": {
    "collapsed": false,
    "ExecuteTime": {
     "end_time": "2024-03-29T12:45:19.591694Z",
     "start_time": "2024-03-29T12:45:19.588525Z"
    }
   },
   "id": "ab86b487fd7fac8a"
  },
  {
   "cell_type": "code",
   "execution_count": 3,
   "outputs": [
    {
     "ename": "TypeError",
     "evalue": "LoanTraderObj.run_auction() got an unexpected keyword argument 'show_bids'",
     "output_type": "error",
     "traceback": [
      "\u001B[0;31m---------------------------------------------------------------------------\u001B[0m",
      "\u001B[0;31mTypeError\u001B[0m                                 Traceback (most recent call last)",
      "Cell \u001B[0;32mIn[3], line 4\u001B[0m\n\u001B[1;32m      1\u001B[0m \u001B[38;5;28;01mfor\u001B[39;00m investor \u001B[38;5;129;01min\u001B[39;00m investors_list:\n\u001B[1;32m      2\u001B[0m     investor\u001B[38;5;241m.\u001B[39mupdate(cycle \u001B[38;5;241m=\u001B[39m \u001B[38;5;241m1\u001B[39m)\n\u001B[0;32m----> 4\u001B[0m trader\u001B[38;5;241m.\u001B[39mrun_auction(show_bids\u001B[38;5;241m=\u001B[39m\u001B[38;5;28;01mTrue\u001B[39;00m)\n",
      "\u001B[0;31mTypeError\u001B[0m: LoanTraderObj.run_auction() got an unexpected keyword argument 'show_bids'"
     ]
    }
   ],
   "source": [
    "for investor in investors_list:\n",
    "    investor.update(cycle = 1)\n",
    "\n",
    "trader.run_auction(show_bids=True)"
   ],
   "metadata": {
    "collapsed": false,
    "ExecuteTime": {
     "end_time": "2024-03-29T12:45:19.903278Z",
     "start_time": "2024-03-29T12:45:19.593172Z"
    }
   },
   "id": "3738caf16e37dfd7"
  },
  {
   "cell_type": "markdown",
   "source": [
    "## Showing the clearing process for the loan to transfer ownership"
   ],
   "metadata": {
    "collapsed": false
   },
   "id": "2ee8ebec32cd04f8"
  },
  {
   "cell_type": "code",
   "outputs": [],
   "source": [
    "trader.collect_loans_for_sale(print_outputs=True)\n",
    "trader.run_auction(show_bids=True)"
   ],
   "metadata": {
    "collapsed": false,
    "ExecuteTime": {
     "end_time": "2024-03-29T12:45:19.914154Z",
     "start_time": "2024-03-29T12:45:19.904441Z"
    }
   },
   "id": "d76545ff7236f063",
   "execution_count": null
  },
  {
   "cell_type": "code",
   "outputs": [],
   "source": [
    "print([loan.id[:5] for loan in trader.loans_for_sale])"
   ],
   "metadata": {
    "collapsed": false,
    "ExecuteTime": {
     "start_time": "2024-03-29T12:45:19.906189Z"
    }
   },
   "id": "3aeeb29bea3b6a2b",
   "execution_count": null
  },
  {
   "cell_type": "markdown",
   "source": [
    "# Looking at the Last Loan For Sale"
   ],
   "metadata": {
    "collapsed": false
   },
   "id": "1c756bb2ca75c84d"
  },
  {
   "cell_type": "code",
   "execution_count": null,
   "outputs": [],
   "source": [
    "loans_for_sale[-1].as_dict()"
   ],
   "metadata": {
    "collapsed": false,
    "ExecuteTime": {
     "start_time": "2024-03-29T12:45:19.908428Z"
    }
   },
   "id": "992146e8798bb262"
  },
  {
   "cell_type": "markdown",
   "source": [
    "## Trading Loans Between Investors\n",
    "The trader will have the ability to collect the loans for sale from investors and then run an auction to sell the loans. We'll use a similar set up from above and a limited pool of investors as a demonstration."
   ],
   "metadata": {
    "collapsed": false
   },
   "id": "72f9ff8c67facc20"
  },
  {
   "cell_type": "code",
   "execution_count": null,
   "outputs": [],
   "source": [
    "num_loans = 1\n",
    "num_investors = 500\n",
    "trader = LoanTrader.LoanTraderObj(max_investors=500)\n",
    "\n",
    "\n",
    "# setting up a universe of loans and investors and randomly allocating them\n",
    "loans_list = [Loan.LoanObj() for _ in range(num_loans)]\n",
    "investors_list = [LoanInvestor.LoanInvestorObj() for _ in range(num_investors)]\n",
    "\n",
    "# randomly allocating loans to investors\n",
    "for investor in investors_list:\n",
    "    available_loans = [loan for loan in loans_list if loan.current_owner == \"no owner\"]\n",
    "    investor.initialize_portfolio(available_loans)\n",
    "    \n",
    "# setting up all the investors to have our trader as their trader\n",
    "trader.add_investors(investors_list)"
   ],
   "metadata": {
    "collapsed": false,
    "ExecuteTime": {
     "start_time": "2024-03-29T12:45:19.910668Z"
    }
   },
   "id": "6603be3627f97fea"
  },
  {
   "cell_type": "code",
   "execution_count": null,
   "outputs": [],
   "source": [
    "for _ in range(100):     \n",
    "    trader.collect_loans_for_sale(print_outputs=False, num_investors = 500)\n",
    "    trader.run_auction(show_bids=False)"
   ],
   "metadata": {
    "collapsed": false,
    "ExecuteTime": {
     "start_time": "2024-03-29T12:45:19.913875Z"
    }
   },
   "id": "20d6636a892c8b6e"
  },
  {
   "cell_type": "code",
   "execution_count": null,
   "outputs": [],
   "source": [
    "# plot to show loan price discovery in this universe of investors\n",
    "plt.plot([loan.market_price_history for loan in loans_list][0])\n",
    "plt.title(\"Loan Price Discovery\")\n",
    "plt.xlabel(\"Auction Cycle\")\n",
    "plt.ylabel(\"Loan Price\")\n",
    "plt.show()\n"
   ],
   "metadata": {
    "collapsed": false,
    "ExecuteTime": {
     "start_time": "2024-03-29T12:45:19.915951Z"
    }
   },
   "id": "13625c22270b52f2"
  },
  {
   "cell_type": "markdown",
   "source": [
    "From the plot above, we can see how there is eventially an ideal price that the loan will eventually reach after getting auctioned a number of times to match the most ideal investor for that particular loan based on it's score and the max bid. The idea of a reserve price allows this disovery to happen in a way that is not too costly for the originaly seller creating this slow decline type effect. "
   ],
   "metadata": {
    "collapsed": false
   },
   "id": "63fba6a9654689a6"
  },
  {
   "cell_type": "markdown",
   "source": [
    "## Adding in Multiple Loans\n",
    "\n",
    "Below we see how price discovery becomes more complex for an individual loan when investors have a built portfolio. This is all under the assumption of a release at the initial cycle where no loans are updated until maturity. "
   ],
   "metadata": {
    "collapsed": false
   },
   "id": "ded1ba30f4d73d25"
  },
  {
   "cell_type": "code",
   "execution_count": null,
   "outputs": [],
   "source": [
    "num_loans = 100\n",
    "num_investors = 50\n",
    "trader = LoanTrader.LoanTraderObj(max_investors=500)\n",
    "\n",
    "\n",
    "# setting up a universe of loans and investors and randomly allocating them\n",
    "loans_list = [Loan.LoanObj() for _ in range(num_loans)]\n",
    "investors_list = [LoanInvestor.LoanInvestorObj(target_score_param=0.2) for _ in range(num_investors)]\n",
    "\n",
    "# randomly allocating loans to investors\n",
    "for investor in investors_list:\n",
    "    available_loans = [loan for loan in loans_list if loan.current_owner == \"no owner\"]\n",
    "    investor.initialize_portfolio(available_loans)\n",
    "    \n",
    "# setting up all the investors to have our trader as their trader\n",
    "trader.add_investors(investors_list)"
   ],
   "metadata": {
    "collapsed": false,
    "ExecuteTime": {
     "start_time": "2024-03-29T12:45:19.917554Z"
    }
   },
   "id": "1ff22795266ee25c"
  },
  {
   "cell_type": "code",
   "execution_count": null,
   "outputs": [],
   "source": [
    "for _ in range(100):     \n",
    "    trader.collect_loans_for_sale(print_outputs=False, num_investors = 25)\n",
    "    trader.run_auction(show_bids=False)"
   ],
   "metadata": {
    "collapsed": false,
    "ExecuteTime": {
     "start_time": "2024-03-29T12:45:19.919309Z"
    }
   },
   "id": "85492496e8deb42e"
  },
  {
   "cell_type": "code",
   "execution_count": null,
   "outputs": [],
   "source": [
    "# Plotting\n",
    "plt.figure(figsize=(15, 10))\n",
    "\n",
    "# Plot each sublist as a separate line in the line plot\n",
    "for i, sublist in enumerate([loan.market_price_history for loan in loans_list]):\n",
    "    plt.plot(sublist, label=f'Series {i+1}')\n",
    "\n",
    "plt.title(\"Loan Price Discovery\")\n",
    "plt.xlabel(\"Auction Cycle\")\n",
    "plt.ylabel(\"Loan Price\")\n",
    "plt.show()"
   ],
   "metadata": {
    "collapsed": false,
    "ExecuteTime": {
     "start_time": "2024-03-29T12:45:19.920801Z"
    }
   },
   "id": "224b2b03ac0b97e7"
  },
  {
   "cell_type": "markdown",
   "source": [
    "### Adding in Loan Updates"
   ],
   "metadata": {
    "collapsed": false
   },
   "id": "8aef1989170cd2fb"
  },
  {
   "cell_type": "markdown",
   "source": [
    "This is the most basic implementation of the entire loan market in which prices are discovered and loans are able to mature. In this case there is only one trader and 1000 loans across 25 investors. The plot below shows how the market price for loans changes over the course of the simulation. The market price is reflected as the most recent high bid for a loan that goes up for sale. "
   ],
   "metadata": {
    "collapsed": false
   },
   "id": "61dead89726dec16"
  },
  {
   "cell_type": "code",
   "execution_count": null,
   "outputs": [],
   "source": [
    "import Agents.Loan\n",
    "\n",
    "num_loans = 10\n",
    "num_investors = 25\n",
    "trader = LoanTrader.LoanTraderObj(max_investors=500)\n",
    "\n",
    "# setting up a universe of loans and investors and randomly allocating them\n",
    "loans_list = [Loan.LoanObj() for _ in range(num_loans)]\n",
    "investors_list = [LoanInvestor.LoanInvestorObj() for _ in range(num_investors)]\n",
    "\n",
    "# randomly allocating loans to investors\n",
    "for investor in investors_list:\n",
    "    available_loans = [loan for loan in loans_list if loan.current_owner == \"no owner\"]\n",
    "    investor.initialize_portfolio(available_loans)\n",
    "\n",
    "# setting up all the investors to have our trader as their trader\n",
    "trader.add_investors(investors_list)\n",
    "for _ in range(200):\n",
    "    for investor in investors_list:\n",
    "        investor.update(cycle=_)\n",
    "    for loan in loans_list:\n",
    "        loan.update(current_cycle=_)\n",
    "    \n",
    "    trader.update(cycle=_, num_investors=25)\n",
    "\n",
    "# Plotting\n",
    "plt.figure(figsize=(15, 10))\n",
    "\n",
    "# plotting each loans market price history\n",
    "for loan in loans_list:\n",
    "    plt.plot(loan.market_price_history)\n",
    "\n",
    "plt.title(\"Loan Market Price Discovery\")\n",
    "plt.xlabel(\"Auction Cycle\")\n",
    "plt.ylabel(\"Loan Price\")\n",
    "plt.show()"
   ],
   "metadata": {
    "collapsed": false,
    "ExecuteTime": {
     "start_time": "2024-03-29T12:45:19.921923Z"
    }
   },
   "id": "46a8b229c8e5fe51"
  },
  {
   "cell_type": "code",
   "execution_count": null,
   "outputs": [],
   "source": [
    "# Generating a plot similar to the above but for sale price history\n",
    "\n",
    "plt.figure(figsize=(15, 10))\n",
    "for i, sublist in enumerate([loan.sale_price_history for loan in loans_list]):\n",
    "    plt.plot(sublist, label=f'Series {i + 1}')\n",
    "\n",
    "plt.title(\"Loan Sale Price History\")\n",
    "plt.xlabel(\"Bid Cycle\")\n",
    "plt.ylabel(\"Loan Price\")\n",
    "plt.show()\n"
   ],
   "metadata": {
    "collapsed": false,
    "ExecuteTime": {
     "start_time": "2024-03-29T12:45:19.922848Z"
    }
   },
   "id": "4747bea5d70ed767"
  },
  {
   "cell_type": "markdown",
   "source": [
    "## Capital Generation Across Updates with Trading"
   ],
   "metadata": {
    "collapsed": false
   },
   "id": "8690474734489a8e"
  },
  {
   "cell_type": "code",
   "execution_count": null,
   "outputs": [],
   "source": [
    "num_loans = 1000\n",
    "num_investors = 100\n",
    "trader = LoanTrader.LoanTraderObj(max_investors=100)\n",
    "\n",
    "# setting up a universe of loans and investors and randomly allocating them\n",
    "loans_list = [Loan.LoanObj() for _ in range(num_loans)]\n",
    "investors_list = [LoanInvestor.LoanInvestorObj() for _ in range(num_investors)]\n",
    "\n",
    "# randomly allocating loans to investors\n",
    "for investor in investors_list:\n",
    "    available_loans = [loan for loan in loans_list if loan.current_owner == \"no owner\"]\n",
    "    investor.initialize_portfolio(available_loans)\n",
    "\n",
    "# setting up all the investors to have our trader as their trader\n",
    "trader.add_investors(investors_list)\n",
    "\n",
    "trader_revenue = []\n",
    "\n",
    "for _ in range(200):\n",
    "    for investor in investors_list:\n",
    "        investor.update(cycle=_)\n",
    "    for loan in loans_list:\n",
    "        loan.update(current_cycle=_)\n",
    "        \n",
    "    trader_revenue.append(sum(trader.revenue_history))\n",
    "\n",
    "    trader.update(cycle=_, num_investors=25)\n",
    "\n",
    "plt.plot(trader_revenue, label=\"Trader Revenue\")\n",
    "plt.title(\"Trader Revenue Over Time\")\n",
    "plt.xlabel(\"Auction Cycle\")\n",
    "plt.ylabel(\"Revenue\")"
   ],
   "metadata": {
    "collapsed": false,
    "ExecuteTime": {
     "start_time": "2024-03-29T12:45:19.923956Z"
    }
   },
   "id": "9846f56376bc7877"
  },
  {
   "cell_type": "code",
   "outputs": [],
   "source": [
    "# Plotting\n",
    "plt.figure(figsize=(15, 10))\n",
    "\n",
    "# plotting each investors capital history\n",
    "for investor in investors_list:\n",
    "    plt.plot(investor.capital_history)\n",
    "plt.title(\"Investor Capital Over Time\")\n",
    "plt.xlabel(\"Auction Cycle\")\n",
    "plt.ylabel(\"Capital\")"
   ],
   "metadata": {
    "collapsed": false,
    "ExecuteTime": {
     "start_time": "2024-03-29T12:45:19.925022Z"
    }
   },
   "id": "f680f2900c4d71b6",
   "execution_count": null
  }
 ],
 "metadata": {
  "kernelspec": {
   "display_name": "Python 3",
   "language": "python",
   "name": "python3"
  },
  "language_info": {
   "codemirror_mode": {
    "name": "ipython",
    "version": 2
   },
   "file_extension": ".py",
   "mimetype": "text/x-python",
   "name": "python",
   "nbconvert_exporter": "python",
   "pygments_lexer": "ipython2",
   "version": "2.7.6"
  }
 },
 "nbformat": 4,
 "nbformat_minor": 5
}
